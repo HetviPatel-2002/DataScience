{
 "cells": [
  {
   "cell_type": "markdown",
   "id": "e1dd6278-2421-4465-b2dc-07731cebab11",
   "metadata": {},
   "source": [
    "# Data Science Tools and Ecosystem"
   ]
  },
  {
   "cell_type": "markdown",
   "id": "7c16435f-8fe1-41c8-a806-1ac55a55a413",
   "metadata": {},
   "source": [
    "In this notebook, Data Science Tools and Ecosystem are summarized."
   ]
  },
  {
   "cell_type": "markdown",
   "id": "944a1103-72f2-42fc-9c6c-87a8217283c8",
   "metadata": {},
   "source": [
    "**Objectives:**\n",
    "- Popular languages used in Data Science\n",
    "- Commonly used libraries in Data Science\n",
    "- Examples of evaluation of arithmetic expressions."
   ]
  },
  {
   "cell_type": "markdown",
   "id": "00d2ec1f-32e9-4532-9543-e55205033b8f",
   "metadata": {},
   "source": [
    "Some of the popular languages that Data Scientists use are:\n",
    "1. Python\n",
    "2. R\n",
    "3. Scala\n",
    "4. JavaScript"
   ]
  },
  {
   "cell_type": "markdown",
   "id": "6bfe4da2-36ae-4538-abba-aca56b812e01",
   "metadata": {},
   "source": [
    "Some of the commonly used libraries used by Data Scientists include:\n",
    "1. NumPy: A library for scientific computing with Python.\n",
    "1. Pandas: A library for data manipulation and analysis.\n",
    "1. Matplotlib: A library for data visualization.\n",
    "1. Scikit-learn: A library for machine learning.\n",
    "1. Seaborn: A library for statistical graphics.\n",
    "1. TensorFlow: A library for deep learning.\n",
    "1. PyTorch: A library for deep learning."
   ]
  },
  {
   "cell_type": "markdown",
   "id": "ef82ded6-3532-42dc-8c11-4d4aab9bf476",
   "metadata": {},
   "source": [
    "|Data Science Tools|\n",
    "|----|\n",
    "|Keras|\n",
    "|RStudio|\n",
    "|Matplotlib|"
   ]
  },
  {
   "cell_type": "markdown",
   "id": "2962a182-fd77-4588-8c86-27f0006275cc",
   "metadata": {},
   "source": [
    "### Below are a few examples of evaluating arithmetic expressions in Python"
   ]
  },
  {
   "cell_type": "code",
   "execution_count": 1,
   "id": "0b8a8d76-8012-451f-886f-3a86a3f99e07",
   "metadata": {
    "tags": []
   },
   "outputs": [
    {
     "data": {
      "text/plain": [
       "17"
      ]
     },
     "execution_count": 1,
     "metadata": {},
     "output_type": "execute_result"
    }
   ],
   "source": [
    "(3*4)+5 #This a simple arithmetic expression to mutiply then add integers"
   ]
  },
  {
   "cell_type": "code",
   "execution_count": 3,
   "id": "d68b9e3f-a9cd-47a6-bcb3-12a8091109c4",
   "metadata": {
    "tags": []
   },
   "outputs": [
    {
     "data": {
      "text/plain": [
       "3.3333333333333335"
      ]
     },
     "execution_count": 3,
     "metadata": {},
     "output_type": "execute_result"
    }
   ],
   "source": [
    "200/60 # This will convert 200 minutes to hours by diving by 60\n"
   ]
  },
  {
   "cell_type": "markdown",
   "id": "556f6b8c-ed56-45a4-b63c-dff3d19b058d",
   "metadata": {},
   "source": [
    "## Author\n",
    "Hetvi Patel"
   ]
  }
 ],
 "metadata": {
  "kernelspec": {
   "display_name": "Python",
   "language": "python",
   "name": "conda-env-python-py"
  },
  "language_info": {
   "codemirror_mode": {
    "name": "ipython",
    "version": 3
   },
   "file_extension": ".py",
   "mimetype": "text/x-python",
   "name": "python",
   "nbconvert_exporter": "python",
   "pygments_lexer": "ipython3",
   "version": "3.7.12"
  }
 },
 "nbformat": 4,
 "nbformat_minor": 5
}
